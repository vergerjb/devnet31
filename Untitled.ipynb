{
 "cells": [
  {
   "cell_type": "code",
   "execution_count": 3,
   "id": "5fea499b-a13c-4ac6-bad8-9f51b689f2a7",
   "metadata": {},
   "outputs": [
    {
     "name": "stdout",
     "output_type": "stream",
     "text": [
      "Inicialment : Valor inicial\n",
      "Després de l'asignación local: Valor inicial\n",
      "Luego de la asignación no local: algo no local\n",
      "Luego de la asignación global: algo no local\n",
      "In global scope: algo global\n"
     ]
    }
   ],
   "source": [
    "\n",
    "\n",
    "def prueba_ambitos():\n",
    "    def hacer_local():\n",
    "         algo = \"valor local sense parametres, declaració normal\"\n",
    "    def hacer_nonlocal():\n",
    "        nonlocal algo # sols dins d'aquesta funció\n",
    "        algo = \"algo no local\"\n",
    "    def hacer_global():\n",
    "        global algo\n",
    "        algo = \"algo global\"\n",
    "\n",
    "    algo = \"Valor inicial\"\n",
    "    print(\"Inicialment :\", algo)\n",
    "    hacer_local()\n",
    "    print(\"Després de l'asignación local:\", algo)\n",
    "    hacer_nonlocal()\n",
    "    print(\"Després de l'asignación no local:\", algo)\n",
    "    hacer_global()\n",
    "    print(\"Luego de la asignación global:\", algo)\n",
    "\n",
    "prueba_ambitos()\n",
    "print(\"In global scope:\", algo)\n"
   ]
  },
  {
   "cell_type": "code",
   "execution_count": 6,
   "id": "f405be5a-f3d2-48a9-9ae1-5450b2398761",
   "metadata": {},
   "outputs": [
    {
     "ename": "NameError",
     "evalue": "name 'self' is not defined",
     "output_type": "error",
     "traceback": [
      "\u001b[1;31m---------------------------------------------------------------------------\u001b[0m",
      "\u001b[1;31mNameError\u001b[0m                                 Traceback (most recent call last)",
      "\u001b[1;32m<ipython-input-6-aeecf277c3b3>\u001b[0m in \u001b[0;36m<module>\u001b[1;34m\u001b[0m\n\u001b[0;32m      5\u001b[0m \u001b[1;33m\u001b[0m\u001b[0m\n\u001b[0;32m      6\u001b[0m \u001b[1;33m\u001b[0m\u001b[0m\n\u001b[1;32m----> 7\u001b[1;33m \u001b[1;32mclass\u001b[0m \u001b[0mPerro\u001b[0m\u001b[1;33m(\u001b[0m\u001b[0mAnimal\u001b[0m\u001b[1;33m)\u001b[0m\u001b[1;33m:\u001b[0m \u001b[1;31m#poster (modulo.Animal)\u001b[0m\u001b[1;33m\u001b[0m\u001b[1;33m\u001b[0m\u001b[0m\n\u001b[0m\u001b[0;32m      8\u001b[0m     \u001b[0mself\u001b[0m\u001b[1;33m.\u001b[0m\u001b[0mespecie\u001b[0m \u001b[1;33m=\u001b[0m \u001b[1;34m'canino'\u001b[0m \u001b[1;31m# variable de clase compartida por todas las instancias\u001b[0m\u001b[1;33m\u001b[0m\u001b[1;33m\u001b[0m\u001b[0m\n\u001b[0;32m      9\u001b[0m     \u001b[1;32mdef\u001b[0m \u001b[0m__init__\u001b[0m\u001b[1;33m(\u001b[0m\u001b[0mself\u001b[0m\u001b[1;33m,\u001b[0m \u001b[0mnombre\u001b[0m\u001b[1;33m)\u001b[0m\u001b[1;33m:\u001b[0m\u001b[1;33m\u001b[0m\u001b[1;33m\u001b[0m\u001b[0m\n",
      "\u001b[1;32m<ipython-input-6-aeecf277c3b3>\u001b[0m in \u001b[0;36mPerro\u001b[1;34m()\u001b[0m\n\u001b[0;32m      6\u001b[0m \u001b[1;33m\u001b[0m\u001b[0m\n\u001b[0;32m      7\u001b[0m \u001b[1;32mclass\u001b[0m \u001b[0mPerro\u001b[0m\u001b[1;33m(\u001b[0m\u001b[0mAnimal\u001b[0m\u001b[1;33m)\u001b[0m\u001b[1;33m:\u001b[0m \u001b[1;31m#poster (modulo.Animal)\u001b[0m\u001b[1;33m\u001b[0m\u001b[1;33m\u001b[0m\u001b[0m\n\u001b[1;32m----> 8\u001b[1;33m     \u001b[0mself\u001b[0m\u001b[1;33m.\u001b[0m\u001b[0mespecie\u001b[0m \u001b[1;33m=\u001b[0m \u001b[1;34m'canino'\u001b[0m \u001b[1;31m# variable de clase compartida por todas las instancias\u001b[0m\u001b[1;33m\u001b[0m\u001b[1;33m\u001b[0m\u001b[0m\n\u001b[0m\u001b[0;32m      9\u001b[0m     \u001b[1;32mdef\u001b[0m \u001b[0m__init__\u001b[0m\u001b[1;33m(\u001b[0m\u001b[0mself\u001b[0m\u001b[1;33m,\u001b[0m \u001b[0mnombre\u001b[0m\u001b[1;33m)\u001b[0m\u001b[1;33m:\u001b[0m\u001b[1;33m\u001b[0m\u001b[1;33m\u001b[0m\u001b[0m\n\u001b[0;32m     10\u001b[0m         \u001b[0mself\u001b[0m\u001b[1;33m.\u001b[0m\u001b[0mnombre\u001b[0m \u001b[1;33m=\u001b[0m \u001b[0mnombre\u001b[0m       \u001b[1;31m# variable de instancia única para la instancia\u001b[0m\u001b[1;33m\u001b[0m\u001b[1;33m\u001b[0m\u001b[0m\n",
      "\u001b[1;31mNameError\u001b[0m: name 'self' is not defined"
     ]
    }
   ],
   "source": [
    "class Animal:\n",
    "    def __init__(self, nombre):\n",
    "        self.especie = nombre\n",
    "    \n",
    "\n",
    "\n",
    "class Perro(Animal): #poster (modulo.Animal)\n",
    "    self.especie = 'canino' # variable de clase compartida por todas las instancias\n",
    "    def __init__(self, nombre):\n",
    "        self.nombre = nombre       # variable de instancia única para la instancia\n",
    "        self.trucos = []           # crea una nueva lista vacía para cada perro\n",
    "    def agregar_truco(self, truco):\n",
    "        self.trucos.append(truco)\n",
    "\n",
    "\n",
    "d = Perro('Fido')\n",
    "e = Perro('Buddy')\n",
    "print(\"tipus {}  i nom {}\".format(d.tipo,d.nombre))\n",
    "print(\"tipus {}  i nom {}\".format(e.tipo,e.nombre))\n",
    "d.agregar_truco('girar')\n",
    "print(d.trucos)\n",
    "\n",
    "\n",
    "\n",
    "class Estudiante(object):  #Creamos la clase padre\n",
    "    def __init__(self, edad, nombre): # Definimos los parámetros edad y nombre\n",
    "        self.edad = edad #Declaramos que el atributo edad es igual al argumento edad\n",
    "        self.nombre = nombre #Declaramos que el atributo nombre es igual al argumento nombre\n",
    "class Instituto(object):\n",
    "    def presentarinstituto (self):\n",
    "        print(\"\"\"Estudio en el Instituto de Leyes 112\"\"\")\n",
    "class Derecho (Estudiante, Instituto): #Entre paréntesis indicamos la clase padre o principal ESTUDIANTE\n",
    "                            #Lo que la convierte a DERECHO en una clase hija o secundaria\n",
    "    def presentarse(self): #Creamos el método presentarse\n",
    "        print (f\"Soy {self.nombre} tengo {self.edad} años y estudio Derecho\") #Se presenta llamando los atributos\n",
    "       \n",
    "Manuel = Derecho(26, 'Manuel Contreras') #Indicamos argumentos edad y nombre\n",
    "Manuel.presentarse() # Llamamos al método y Manuel se presenta\n",
    "Manuel.presentarinstituto()"
   ]
  },
  {
   "cell_type": "code",
   "execution_count": null,
   "id": "d14b5a25-d887-4a3c-a1f7-74d9b24049d6",
   "metadata": {},
   "outputs": [],
   "source": []
  }
 ],
 "metadata": {
  "kernelspec": {
   "display_name": "Python 3",
   "language": "python",
   "name": "python3"
  },
  "language_info": {
   "codemirror_mode": {
    "name": "ipython",
    "version": 3
   },
   "file_extension": ".py",
   "mimetype": "text/x-python",
   "name": "python",
   "nbconvert_exporter": "python",
   "pygments_lexer": "ipython3",
   "version": "3.9.5"
  }
 },
 "nbformat": 4,
 "nbformat_minor": 5
}
